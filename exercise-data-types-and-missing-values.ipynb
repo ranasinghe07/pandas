{
 "cells": [
  {
   "cell_type": "markdown",
   "id": "fab600bf",
   "metadata": {
    "papermill": {
     "duration": 0.004935,
     "end_time": "2025-07-19T05:47:42.216793",
     "exception": false,
     "start_time": "2025-07-19T05:47:42.211858",
     "status": "completed"
    },
    "tags": []
   },
   "source": [
    "**This notebook is an exercise in the [Pandas](https://www.kaggle.com/learn/pandas) course.  You can reference the tutorial at [this link](https://www.kaggle.com/residentmario/data-types-and-missing-values).**\n",
    "\n",
    "---\n"
   ]
  },
  {
   "cell_type": "markdown",
   "id": "6f01c62a",
   "metadata": {
    "papermill": {
     "duration": 0.004313,
     "end_time": "2025-07-19T05:47:42.225677",
     "exception": false,
     "start_time": "2025-07-19T05:47:42.221364",
     "status": "completed"
    },
    "tags": []
   },
   "source": [
    "# Introduction\n",
    "\n",
    "Run the following cell to load your data and some utility functions."
   ]
  },
  {
   "cell_type": "code",
   "execution_count": 1,
   "id": "89c88725",
   "metadata": {
    "execution": {
     "iopub.execute_input": "2025-07-19T05:47:42.236128Z",
     "iopub.status.busy": "2025-07-19T05:47:42.235700Z",
     "iopub.status.idle": "2025-07-19T05:47:48.507916Z",
     "shell.execute_reply": "2025-07-19T05:47:48.506589Z"
    },
    "papermill": {
     "duration": 6.280718,
     "end_time": "2025-07-19T05:47:48.510677",
     "exception": false,
     "start_time": "2025-07-19T05:47:42.229959",
     "status": "completed"
    },
    "tags": []
   },
   "outputs": [
    {
     "name": "stdout",
     "output_type": "stream",
     "text": [
      "Setup complete.\n"
     ]
    }
   ],
   "source": [
    "import pandas as pd\n",
    "\n",
    "reviews = pd.read_csv(\"../input/wine-reviews/winemag-data-130k-v2.csv\", index_col=0)\n",
    "\n",
    "from learntools.core import binder; binder.bind(globals())\n",
    "from learntools.pandas.data_types_and_missing_data import *\n",
    "print(\"Setup complete.\")"
   ]
  },
  {
   "cell_type": "markdown",
   "id": "97dde8a4",
   "metadata": {
    "papermill": {
     "duration": 0.008275,
     "end_time": "2025-07-19T05:47:48.526965",
     "exception": false,
     "start_time": "2025-07-19T05:47:48.518690",
     "status": "completed"
    },
    "tags": []
   },
   "source": [
    "# Exercises"
   ]
  },
  {
   "cell_type": "markdown",
   "id": "cd6f6f4b",
   "metadata": {
    "papermill": {
     "duration": 0.003667,
     "end_time": "2025-07-19T05:47:48.535830",
     "exception": false,
     "start_time": "2025-07-19T05:47:48.532163",
     "status": "completed"
    },
    "tags": []
   },
   "source": [
    "## 1. \n",
    "What is the data type of the `points` column in the dataset?"
   ]
  },
  {
   "cell_type": "code",
   "execution_count": 2,
   "id": "7c7e114f",
   "metadata": {
    "execution": {
     "iopub.execute_input": "2025-07-19T05:47:48.545745Z",
     "iopub.status.busy": "2025-07-19T05:47:48.545167Z",
     "iopub.status.idle": "2025-07-19T05:47:48.562074Z",
     "shell.execute_reply": "2025-07-19T05:47:48.560616Z"
    },
    "papermill": {
     "duration": 0.025021,
     "end_time": "2025-07-19T05:47:48.564958",
     "exception": false,
     "start_time": "2025-07-19T05:47:48.539937",
     "status": "completed"
    },
    "tags": []
   },
   "outputs": [
    {
     "data": {
      "application/javascript": [
       "parent.postMessage({\"jupyterEvent\": \"custom.exercise_interaction\", \"data\": {\"outcomeType\": 1, \"valueTowardsCompletion\": 0.25, \"interactionType\": 1, \"questionType\": 1, \"questionId\": \"1_PointsDtype\", \"learnToolsVersion\": \"0.3.5\", \"failureMessage\": \"\", \"exceptionClass\": \"\", \"trace\": \"\"}}, \"*\")"
      ],
      "text/plain": [
       "<IPython.core.display.Javascript object>"
      ]
     },
     "metadata": {},
     "output_type": "display_data"
    },
    {
     "data": {
      "text/markdown": [
       "<span style=\"color:#33cc33\">Correct</span>"
      ],
      "text/plain": [
       "Correct"
      ]
     },
     "metadata": {},
     "output_type": "display_data"
    },
    {
     "data": {
      "text/plain": [
       "dtype('int64')"
      ]
     },
     "execution_count": 2,
     "metadata": {},
     "output_type": "execute_result"
    }
   ],
   "source": [
    "# Your code here\n",
    "dtype = reviews.points.dtype\n",
    "\n",
    "\n",
    "# Check your answer\n",
    "q1.check()\n",
    "dtype"
   ]
  },
  {
   "cell_type": "code",
   "execution_count": 3,
   "id": "8263ed67",
   "metadata": {
    "execution": {
     "iopub.execute_input": "2025-07-19T05:47:48.579821Z",
     "iopub.status.busy": "2025-07-19T05:47:48.578593Z",
     "iopub.status.idle": "2025-07-19T05:47:48.585205Z",
     "shell.execute_reply": "2025-07-19T05:47:48.583722Z"
    },
    "papermill": {
     "duration": 0.015748,
     "end_time": "2025-07-19T05:47:48.587570",
     "exception": false,
     "start_time": "2025-07-19T05:47:48.571822",
     "status": "completed"
    },
    "tags": []
   },
   "outputs": [],
   "source": [
    "#q1.hint()\n",
    "#q1.solution()"
   ]
  },
  {
   "cell_type": "markdown",
   "id": "f309e340",
   "metadata": {
    "papermill": {
     "duration": 0.004928,
     "end_time": "2025-07-19T05:47:48.598795",
     "exception": false,
     "start_time": "2025-07-19T05:47:48.593867",
     "status": "completed"
    },
    "tags": []
   },
   "source": [
    "## 2. \n",
    "Create a Series from entries in the `points` column, but convert the entries to strings. Hint: strings are `str` in native Python."
   ]
  },
  {
   "cell_type": "code",
   "execution_count": 4,
   "id": "d44da52a",
   "metadata": {
    "execution": {
     "iopub.execute_input": "2025-07-19T05:47:48.616594Z",
     "iopub.status.busy": "2025-07-19T05:47:48.616039Z",
     "iopub.status.idle": "2025-07-19T05:47:48.678916Z",
     "shell.execute_reply": "2025-07-19T05:47:48.677225Z"
    },
    "papermill": {
     "duration": 0.074081,
     "end_time": "2025-07-19T05:47:48.680945",
     "exception": false,
     "start_time": "2025-07-19T05:47:48.606864",
     "status": "completed"
    },
    "tags": []
   },
   "outputs": [
    {
     "data": {
      "application/javascript": [
       "parent.postMessage({\"jupyterEvent\": \"custom.exercise_interaction\", \"data\": {\"outcomeType\": 1, \"valueTowardsCompletion\": 0.25, \"interactionType\": 1, \"questionType\": 1, \"questionId\": \"2_StrPoints\", \"learnToolsVersion\": \"0.3.5\", \"failureMessage\": \"\", \"exceptionClass\": \"\", \"trace\": \"\"}}, \"*\")"
      ],
      "text/plain": [
       "<IPython.core.display.Javascript object>"
      ]
     },
     "metadata": {},
     "output_type": "display_data"
    },
    {
     "data": {
      "text/markdown": [
       "<span style=\"color:#33cc33\">Correct</span>"
      ],
      "text/plain": [
       "Correct"
      ]
     },
     "metadata": {},
     "output_type": "display_data"
    },
    {
     "data": {
      "text/plain": [
       "0         87\n",
       "1         87\n",
       "2         87\n",
       "3         87\n",
       "4         87\n",
       "          ..\n",
       "129966    90\n",
       "129967    90\n",
       "129968    90\n",
       "129969    90\n",
       "129970    90\n",
       "Name: points, Length: 129971, dtype: object"
      ]
     },
     "execution_count": 4,
     "metadata": {},
     "output_type": "execute_result"
    }
   ],
   "source": [
    "point_strings = reviews.points.astype('str')\n",
    "\n",
    "\n",
    "# Check your answer\n",
    "q2.check()\n",
    "point_strings"
   ]
  },
  {
   "cell_type": "code",
   "execution_count": 5,
   "id": "e90cdbec",
   "metadata": {
    "execution": {
     "iopub.execute_input": "2025-07-19T05:47:48.694163Z",
     "iopub.status.busy": "2025-07-19T05:47:48.692851Z",
     "iopub.status.idle": "2025-07-19T05:47:48.698337Z",
     "shell.execute_reply": "2025-07-19T05:47:48.697389Z"
    },
    "papermill": {
     "duration": 0.014374,
     "end_time": "2025-07-19T05:47:48.700228",
     "exception": false,
     "start_time": "2025-07-19T05:47:48.685854",
     "status": "completed"
    },
    "tags": []
   },
   "outputs": [],
   "source": [
    "#q2.hint()\n",
    "#q2.solution()"
   ]
  },
  {
   "cell_type": "markdown",
   "id": "1c24367c",
   "metadata": {
    "papermill": {
     "duration": 0.004432,
     "end_time": "2025-07-19T05:47:48.709551",
     "exception": false,
     "start_time": "2025-07-19T05:47:48.705119",
     "status": "completed"
    },
    "tags": []
   },
   "source": [
    "## 3.\n",
    "Sometimes the price column is null. How many reviews in the dataset are missing a price?"
   ]
  },
  {
   "cell_type": "code",
   "execution_count": 6,
   "id": "803a15d7",
   "metadata": {
    "execution": {
     "iopub.execute_input": "2025-07-19T05:47:48.720888Z",
     "iopub.status.busy": "2025-07-19T05:47:48.720445Z",
     "iopub.status.idle": "2025-07-19T05:47:48.735390Z",
     "shell.execute_reply": "2025-07-19T05:47:48.734133Z"
    },
    "papermill": {
     "duration": 0.02324,
     "end_time": "2025-07-19T05:47:48.737429",
     "exception": false,
     "start_time": "2025-07-19T05:47:48.714189",
     "status": "completed"
    },
    "tags": []
   },
   "outputs": [
    {
     "data": {
      "application/javascript": [
       "parent.postMessage({\"jupyterEvent\": \"custom.exercise_interaction\", \"data\": {\"outcomeType\": 1, \"valueTowardsCompletion\": 0.25, \"interactionType\": 1, \"questionType\": 1, \"questionId\": \"3_CountMissingPrices\", \"learnToolsVersion\": \"0.3.5\", \"failureMessage\": \"\", \"exceptionClass\": \"\", \"trace\": \"\"}}, \"*\")"
      ],
      "text/plain": [
       "<IPython.core.display.Javascript object>"
      ]
     },
     "metadata": {},
     "output_type": "display_data"
    },
    {
     "data": {
      "text/markdown": [
       "<span style=\"color:#33cc33\">Correct</span>"
      ],
      "text/plain": [
       "Correct"
      ]
     },
     "metadata": {},
     "output_type": "display_data"
    },
    {
     "data": {
      "text/plain": [
       "8996"
      ]
     },
     "execution_count": 6,
     "metadata": {},
     "output_type": "execute_result"
    }
   ],
   "source": [
    "n_missing_prices = reviews.price.isnull().sum()\n",
    "\n",
    "\n",
    "# Check your answer\n",
    "q3.check()\n",
    "n_missing_prices\n"
   ]
  },
  {
   "cell_type": "code",
   "execution_count": 7,
   "id": "43696955",
   "metadata": {
    "execution": {
     "iopub.execute_input": "2025-07-19T05:47:48.749859Z",
     "iopub.status.busy": "2025-07-19T05:47:48.749379Z",
     "iopub.status.idle": "2025-07-19T05:47:48.754810Z",
     "shell.execute_reply": "2025-07-19T05:47:48.753549Z"
    },
    "papermill": {
     "duration": 0.013952,
     "end_time": "2025-07-19T05:47:48.756907",
     "exception": false,
     "start_time": "2025-07-19T05:47:48.742955",
     "status": "completed"
    },
    "tags": []
   },
   "outputs": [],
   "source": [
    "#q3.hint()\n",
    "#q3.solution()"
   ]
  },
  {
   "cell_type": "markdown",
   "id": "05d7a4a4",
   "metadata": {
    "papermill": {
     "duration": 0.00496,
     "end_time": "2025-07-19T05:47:48.767061",
     "exception": false,
     "start_time": "2025-07-19T05:47:48.762101",
     "status": "completed"
    },
    "tags": []
   },
   "source": [
    "## 4.\n",
    "What are the most common wine-producing regions? Create a Series counting the number of times each value occurs in the `region_1` field. This field is often missing data, so replace missing values with `Unknown`. Sort in descending order.  Your output should look something like this:\n",
    "\n",
    "```\n",
    "Unknown                    21247\n",
    "Napa Valley                 4480\n",
    "                           ...  \n",
    "Bardolino Superiore            1\n",
    "Primitivo del Tarantino        1\n",
    "Name: region_1, Length: 1230, dtype: int64\n",
    "```"
   ]
  },
  {
   "cell_type": "code",
   "execution_count": 8,
   "id": "bd8013ee",
   "metadata": {
    "execution": {
     "iopub.execute_input": "2025-07-19T05:47:48.779059Z",
     "iopub.status.busy": "2025-07-19T05:47:48.778630Z",
     "iopub.status.idle": "2025-07-19T05:47:48.842272Z",
     "shell.execute_reply": "2025-07-19T05:47:48.840655Z"
    },
    "papermill": {
     "duration": 0.072318,
     "end_time": "2025-07-19T05:47:48.844423",
     "exception": false,
     "start_time": "2025-07-19T05:47:48.772105",
     "status": "completed"
    },
    "tags": []
   },
   "outputs": [
    {
     "data": {
      "application/javascript": [
       "parent.postMessage({\"jupyterEvent\": \"custom.exercise_interaction\", \"data\": {\"outcomeType\": 1, \"valueTowardsCompletion\": 0.25, \"interactionType\": 1, \"questionType\": 2, \"questionId\": \"4_ReviewsPerRegion\", \"learnToolsVersion\": \"0.3.5\", \"failureMessage\": \"\", \"exceptionClass\": \"\", \"trace\": \"\"}}, \"*\")"
      ],
      "text/plain": [
       "<IPython.core.display.Javascript object>"
      ]
     },
     "metadata": {},
     "output_type": "display_data"
    },
    {
     "data": {
      "text/markdown": [
       "<span style=\"color:#33cc33\">Correct</span>"
      ],
      "text/plain": [
       "Correct"
      ]
     },
     "metadata": {},
     "output_type": "display_data"
    },
    {
     "data": {
      "text/plain": [
       "region_1\n",
       "Unknown                 21247\n",
       "Napa Valley              4480\n",
       "Columbia Valley (WA)     4124\n",
       "Russian River Valley     3091\n",
       "California               2629\n",
       "                        ...  \n",
       "Offida Rosso                1\n",
       "Corton Perrières            1\n",
       "Isle St. George             1\n",
       "Geelong                     1\n",
       "Paestum                     1\n",
       "Name: count, Length: 1230, dtype: int64"
      ]
     },
     "execution_count": 8,
     "metadata": {},
     "output_type": "execute_result"
    }
   ],
   "source": [
    "reviews_per_region = reviews.region_1.fillna('Unknown').value_counts().sort_values(ascending=False)\n",
    "\n",
    "\n",
    "# Check your answer\n",
    "q4.check()\n",
    "reviews_per_region"
   ]
  },
  {
   "cell_type": "code",
   "execution_count": 9,
   "id": "f8c40f82",
   "metadata": {
    "execution": {
     "iopub.execute_input": "2025-07-19T05:47:48.857283Z",
     "iopub.status.busy": "2025-07-19T05:47:48.856933Z",
     "iopub.status.idle": "2025-07-19T05:47:48.862158Z",
     "shell.execute_reply": "2025-07-19T05:47:48.860982Z"
    },
    "papermill": {
     "duration": 0.014213,
     "end_time": "2025-07-19T05:47:48.864251",
     "exception": false,
     "start_time": "2025-07-19T05:47:48.850038",
     "status": "completed"
    },
    "tags": []
   },
   "outputs": [],
   "source": [
    "#q4.hint()\n",
    "#q4.solution()"
   ]
  },
  {
   "cell_type": "markdown",
   "id": "5c832c06",
   "metadata": {
    "papermill": {
     "duration": 0.006451,
     "end_time": "2025-07-19T05:47:48.876505",
     "exception": false,
     "start_time": "2025-07-19T05:47:48.870054",
     "status": "completed"
    },
    "tags": []
   },
   "source": [
    "# Keep going\n",
    "\n",
    "Move on to **[renaming and combining](https://www.kaggle.com/residentmario/renaming-and-combining)**."
   ]
  },
  {
   "cell_type": "markdown",
   "id": "5c938154",
   "metadata": {
    "papermill": {
     "duration": 0.005779,
     "end_time": "2025-07-19T05:47:48.888217",
     "exception": false,
     "start_time": "2025-07-19T05:47:48.882438",
     "status": "completed"
    },
    "tags": []
   },
   "source": [
    "---\n",
    "\n",
    "\n",
    "\n",
    "\n",
    "*Have questions or comments? Visit the [course discussion forum](https://www.kaggle.com/learn/pandas/discussion) to chat with other learners.*"
   ]
  }
 ],
 "metadata": {
  "kaggle": {
   "accelerator": "none",
   "dataSources": [
    {
     "datasetId": 655,
     "sourceId": 1252,
     "sourceType": "datasetVersion"
    },
    {
     "datasetId": 2321,
     "sourceId": 3919,
     "sourceType": "datasetVersion"
    },
    {
     "datasetId": 2894,
     "sourceId": 4877,
     "sourceType": "datasetVersion"
    },
    {
     "datasetId": 3491,
     "sourceId": 5624,
     "sourceType": "datasetVersion"
    },
    {
     "datasetId": 1442,
     "sourceId": 8172,
     "sourceType": "datasetVersion"
    },
    {
     "datasetId": 9366,
     "sourceId": 13206,
     "sourceType": "datasetVersion"
    },
    {
     "datasetId": 179555,
     "sourceId": 403916,
     "sourceType": "datasetVersion"
    },
    {
     "datasetId": 4549,
     "sourceId": 466349,
     "sourceType": "datasetVersion"
    },
    {
     "datasetId": 2478,
     "sourceId": 1151655,
     "sourceType": "datasetVersion"
    },
    {
     "datasetId": 10128,
     "sourceId": 5438389,
     "sourceType": "datasetVersion"
    }
   ],
   "isGpuEnabled": false,
   "isInternetEnabled": false,
   "language": "python",
   "sourceType": "notebook"
  },
  "kernelspec": {
   "display_name": "Python 3",
   "language": "python",
   "name": "python3"
  },
  "language_info": {
   "codemirror_mode": {
    "name": "ipython",
    "version": 3
   },
   "file_extension": ".py",
   "mimetype": "text/x-python",
   "name": "python",
   "nbconvert_exporter": "python",
   "pygments_lexer": "ipython3",
   "version": "3.11.13"
  },
  "papermill": {
   "default_parameters": {},
   "duration": 15.90556,
   "end_time": "2025-07-19T05:47:49.618521",
   "environment_variables": {},
   "exception": null,
   "input_path": "__notebook__.ipynb",
   "output_path": "__notebook__.ipynb",
   "parameters": {},
   "start_time": "2025-07-19T05:47:33.712961",
   "version": "2.6.0"
  }
 },
 "nbformat": 4,
 "nbformat_minor": 5
}
