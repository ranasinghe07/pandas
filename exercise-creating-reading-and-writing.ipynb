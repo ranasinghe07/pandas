{
 "cells": [
  {
   "cell_type": "markdown",
   "id": "a7460ad9",
   "metadata": {
    "papermill": {
     "duration": 0.004982,
     "end_time": "2025-07-19T05:28:27.720273",
     "exception": false,
     "start_time": "2025-07-19T05:28:27.715291",
     "status": "completed"
    },
    "tags": []
   },
   "source": [
    "**This notebook is an exercise in the [Pandas](https://www.kaggle.com/learn/pandas) course.  You can reference the tutorial at [this link](https://www.kaggle.com/residentmario/creating-reading-and-writing).**\n",
    "\n",
    "---\n"
   ]
  },
  {
   "cell_type": "markdown",
   "id": "315f5304",
   "metadata": {
    "papermill": {
     "duration": 0.003869,
     "end_time": "2025-07-19T05:28:27.728630",
     "exception": false,
     "start_time": "2025-07-19T05:28:27.724761",
     "status": "completed"
    },
    "tags": []
   },
   "source": [
    "# Introduction\n",
    "\n",
    "The first step in most data analytics projects is reading the data file. In this exercise, you'll create Series and DataFrame objects, both by hand and by reading data files.\n",
    "\n",
    "Run the code cell below to load libraries you will need (including code to check your answers)."
   ]
  },
  {
   "cell_type": "code",
   "execution_count": 1,
   "id": "7e51e4d7",
   "metadata": {
    "execution": {
     "iopub.execute_input": "2025-07-19T05:28:27.738349Z",
     "iopub.status.busy": "2025-07-19T05:28:27.738030Z",
     "iopub.status.idle": "2025-07-19T05:28:31.538378Z",
     "shell.execute_reply": "2025-07-19T05:28:31.537134Z"
    },
    "papermill": {
     "duration": 3.807128,
     "end_time": "2025-07-19T05:28:31.540010",
     "exception": false,
     "start_time": "2025-07-19T05:28:27.732882",
     "status": "completed"
    },
    "tags": []
   },
   "outputs": [
    {
     "name": "stdout",
     "output_type": "stream",
     "text": [
      "Setup complete.\n"
     ]
    }
   ],
   "source": [
    "import pandas as pd\n",
    "pd.set_option('display.max_rows', 5)\n",
    "from learntools.core import binder; binder.bind(globals())\n",
    "from learntools.pandas.creating_reading_and_writing import *\n",
    "print(\"Setup complete.\")"
   ]
  },
  {
   "cell_type": "markdown",
   "id": "9118d292",
   "metadata": {
    "papermill": {
     "duration": 0.004516,
     "end_time": "2025-07-19T05:28:31.549166",
     "exception": false,
     "start_time": "2025-07-19T05:28:31.544650",
     "status": "completed"
    },
    "tags": []
   },
   "source": [
    "# Exercises"
   ]
  },
  {
   "cell_type": "markdown",
   "id": "1c995ed2",
   "metadata": {
    "papermill": {
     "duration": 0.003887,
     "end_time": "2025-07-19T05:28:31.557346",
     "exception": false,
     "start_time": "2025-07-19T05:28:31.553459",
     "status": "completed"
    },
    "tags": []
   },
   "source": [
    "## 1.\n",
    "\n",
    "In the cell below, create a DataFrame `fruits` that looks like this:\n",
    "\n",
    "![](https://storage.googleapis.com/kaggle-media/learn/images/Ax3pp2A.png)"
   ]
  },
  {
   "cell_type": "code",
   "execution_count": 2,
   "id": "d9430c5a",
   "metadata": {
    "execution": {
     "iopub.execute_input": "2025-07-19T05:28:31.567200Z",
     "iopub.status.busy": "2025-07-19T05:28:31.566807Z",
     "iopub.status.idle": "2025-07-19T05:28:31.594004Z",
     "shell.execute_reply": "2025-07-19T05:28:31.593120Z"
    },
    "papermill": {
     "duration": 0.034062,
     "end_time": "2025-07-19T05:28:31.595612",
     "exception": false,
     "start_time": "2025-07-19T05:28:31.561550",
     "status": "completed"
    },
    "tags": []
   },
   "outputs": [
    {
     "data": {
      "application/javascript": [
       "parent.postMessage({\"jupyterEvent\": \"custom.exercise_interaction\", \"data\": {\"outcomeType\": 1, \"valueTowardsCompletion\": 0.16666666666666666, \"interactionType\": 1, \"questionType\": 1, \"questionId\": \"1_FruitDfCreation\", \"learnToolsVersion\": \"0.3.5\", \"failureMessage\": \"\", \"exceptionClass\": \"\", \"trace\": \"\"}}, \"*\")"
      ],
      "text/plain": [
       "<IPython.core.display.Javascript object>"
      ]
     },
     "metadata": {},
     "output_type": "display_data"
    },
    {
     "data": {
      "text/markdown": [
       "<span style=\"color:#33cc33\">Correct</span>"
      ],
      "text/plain": [
       "Correct"
      ]
     },
     "metadata": {},
     "output_type": "display_data"
    },
    {
     "data": {
      "text/html": [
       "<div>\n",
       "<style scoped>\n",
       "    .dataframe tbody tr th:only-of-type {\n",
       "        vertical-align: middle;\n",
       "    }\n",
       "\n",
       "    .dataframe tbody tr th {\n",
       "        vertical-align: top;\n",
       "    }\n",
       "\n",
       "    .dataframe thead th {\n",
       "        text-align: right;\n",
       "    }\n",
       "</style>\n",
       "<table border=\"1\" class=\"dataframe\">\n",
       "  <thead>\n",
       "    <tr style=\"text-align: right;\">\n",
       "      <th></th>\n",
       "      <th>Apples</th>\n",
       "      <th>Bananas</th>\n",
       "    </tr>\n",
       "  </thead>\n",
       "  <tbody>\n",
       "    <tr>\n",
       "      <th>0</th>\n",
       "      <td>30</td>\n",
       "      <td>21</td>\n",
       "    </tr>\n",
       "  </tbody>\n",
       "</table>\n",
       "</div>"
      ],
      "text/plain": [
       "   Apples  Bananas\n",
       "0      30       21"
      ]
     },
     "execution_count": 2,
     "metadata": {},
     "output_type": "execute_result"
    }
   ],
   "source": [
    "# Your code goes here. Create a dataframe matching the above diagram and assign it to the variable fruits.\n",
    "fruits = pd.DataFrame([[30, 21]], columns=['Apples', 'Bananas'])\n",
    "\n",
    "\n",
    "# Check your answer\n",
    "q1.check()\n",
    "fruits"
   ]
  },
  {
   "cell_type": "code",
   "execution_count": 3,
   "id": "2353c79e",
   "metadata": {
    "execution": {
     "iopub.execute_input": "2025-07-19T05:28:31.606731Z",
     "iopub.status.busy": "2025-07-19T05:28:31.606382Z",
     "iopub.status.idle": "2025-07-19T05:28:31.610791Z",
     "shell.execute_reply": "2025-07-19T05:28:31.609748Z"
    },
    "papermill": {
     "duration": 0.011882,
     "end_time": "2025-07-19T05:28:31.612481",
     "exception": false,
     "start_time": "2025-07-19T05:28:31.600599",
     "status": "completed"
    },
    "tags": []
   },
   "outputs": [],
   "source": [
    "#q1.hint()\n",
    "#q1.solution()"
   ]
  },
  {
   "cell_type": "markdown",
   "id": "75b848ec",
   "metadata": {
    "papermill": {
     "duration": 0.004448,
     "end_time": "2025-07-19T05:28:31.621753",
     "exception": false,
     "start_time": "2025-07-19T05:28:31.617305",
     "status": "completed"
    },
    "tags": []
   },
   "source": [
    "## 2.\n",
    "\n",
    "Create a dataframe `fruit_sales` that matches the diagram below:\n",
    "\n",
    "![](https://storage.googleapis.com/kaggle-media/learn/images/CHPn7ZF.png)"
   ]
  },
  {
   "cell_type": "code",
   "execution_count": 4,
   "id": "5e2b41e7",
   "metadata": {
    "execution": {
     "iopub.execute_input": "2025-07-19T05:28:31.633775Z",
     "iopub.status.busy": "2025-07-19T05:28:31.633447Z",
     "iopub.status.idle": "2025-07-19T05:28:31.647652Z",
     "shell.execute_reply": "2025-07-19T05:28:31.646624Z"
    },
    "papermill": {
     "duration": 0.022039,
     "end_time": "2025-07-19T05:28:31.649262",
     "exception": false,
     "start_time": "2025-07-19T05:28:31.627223",
     "status": "completed"
    },
    "tags": []
   },
   "outputs": [
    {
     "data": {
      "application/javascript": [
       "parent.postMessage({\"jupyterEvent\": \"custom.exercise_interaction\", \"data\": {\"outcomeType\": 1, \"valueTowardsCompletion\": 0.16666666666666666, \"interactionType\": 1, \"questionType\": 1, \"questionId\": \"2_FruitSalesDfCreation\", \"learnToolsVersion\": \"0.3.5\", \"failureMessage\": \"\", \"exceptionClass\": \"\", \"trace\": \"\"}}, \"*\")"
      ],
      "text/plain": [
       "<IPython.core.display.Javascript object>"
      ]
     },
     "metadata": {},
     "output_type": "display_data"
    },
    {
     "data": {
      "text/markdown": [
       "<span style=\"color:#33cc33\">Correct</span>"
      ],
      "text/plain": [
       "Correct"
      ]
     },
     "metadata": {},
     "output_type": "display_data"
    },
    {
     "data": {
      "text/html": [
       "<div>\n",
       "<style scoped>\n",
       "    .dataframe tbody tr th:only-of-type {\n",
       "        vertical-align: middle;\n",
       "    }\n",
       "\n",
       "    .dataframe tbody tr th {\n",
       "        vertical-align: top;\n",
       "    }\n",
       "\n",
       "    .dataframe thead th {\n",
       "        text-align: right;\n",
       "    }\n",
       "</style>\n",
       "<table border=\"1\" class=\"dataframe\">\n",
       "  <thead>\n",
       "    <tr style=\"text-align: right;\">\n",
       "      <th></th>\n",
       "      <th>Apples</th>\n",
       "      <th>Bananas</th>\n",
       "    </tr>\n",
       "  </thead>\n",
       "  <tbody>\n",
       "    <tr>\n",
       "      <th>2017 Sales</th>\n",
       "      <td>35</td>\n",
       "      <td>21</td>\n",
       "    </tr>\n",
       "    <tr>\n",
       "      <th>2018 Sales</th>\n",
       "      <td>41</td>\n",
       "      <td>34</td>\n",
       "    </tr>\n",
       "  </tbody>\n",
       "</table>\n",
       "</div>"
      ],
      "text/plain": [
       "            Apples  Bananas\n",
       "2017 Sales      35       21\n",
       "2018 Sales      41       34"
      ]
     },
     "execution_count": 4,
     "metadata": {},
     "output_type": "execute_result"
    }
   ],
   "source": [
    "# Your code goes here. Create a dataframe matching the above diagram and assign it to the variable fruit_sales.\n",
    "fruit_sales = pd.DataFrame({'Apples': [35,41], 'Bananas': [21,34]}, index = ['2017 Sales','2018 Sales'])\n",
    "\n",
    "# Check your answer\n",
    "q2.check()\n",
    "fruit_sales"
   ]
  },
  {
   "cell_type": "code",
   "execution_count": 5,
   "id": "583954bf",
   "metadata": {
    "execution": {
     "iopub.execute_input": "2025-07-19T05:28:31.660585Z",
     "iopub.status.busy": "2025-07-19T05:28:31.660289Z",
     "iopub.status.idle": "2025-07-19T05:28:31.664894Z",
     "shell.execute_reply": "2025-07-19T05:28:31.663704Z"
    },
    "papermill": {
     "duration": 0.012545,
     "end_time": "2025-07-19T05:28:31.666875",
     "exception": false,
     "start_time": "2025-07-19T05:28:31.654330",
     "status": "completed"
    },
    "tags": []
   },
   "outputs": [],
   "source": [
    "#q2.hint()\n",
    "#q2.solution()"
   ]
  },
  {
   "cell_type": "markdown",
   "id": "789ce155",
   "metadata": {
    "papermill": {
     "duration": 0.004678,
     "end_time": "2025-07-19T05:28:31.676725",
     "exception": false,
     "start_time": "2025-07-19T05:28:31.672047",
     "status": "completed"
    },
    "tags": []
   },
   "source": [
    "## 3.\n",
    "\n",
    "Create a variable `ingredients` with a Series that looks like:\n",
    "\n",
    "```\n",
    "Flour     4 cups\n",
    "Milk       1 cup\n",
    "Eggs     2 large\n",
    "Spam       1 can\n",
    "Name: Dinner, dtype: object\n",
    "```"
   ]
  },
  {
   "cell_type": "code",
   "execution_count": 6,
   "id": "15becc68",
   "metadata": {
    "execution": {
     "iopub.execute_input": "2025-07-19T05:28:31.688455Z",
     "iopub.status.busy": "2025-07-19T05:28:31.688093Z",
     "iopub.status.idle": "2025-07-19T05:28:31.700092Z",
     "shell.execute_reply": "2025-07-19T05:28:31.699157Z"
    },
    "papermill": {
     "duration": 0.02027,
     "end_time": "2025-07-19T05:28:31.701889",
     "exception": false,
     "start_time": "2025-07-19T05:28:31.681619",
     "status": "completed"
    },
    "tags": []
   },
   "outputs": [
    {
     "data": {
      "application/javascript": [
       "parent.postMessage({\"jupyterEvent\": \"custom.exercise_interaction\", \"data\": {\"outcomeType\": 1, \"valueTowardsCompletion\": 0.16666666666666666, \"interactionType\": 1, \"questionType\": 2, \"questionId\": \"3_RecipeSeriesCreation\", \"learnToolsVersion\": \"0.3.5\", \"failureMessage\": \"\", \"exceptionClass\": \"\", \"trace\": \"\"}}, \"*\")"
      ],
      "text/plain": [
       "<IPython.core.display.Javascript object>"
      ]
     },
     "metadata": {},
     "output_type": "display_data"
    },
    {
     "data": {
      "text/markdown": [
       "<span style=\"color:#33cc33\">Correct</span>"
      ],
      "text/plain": [
       "Correct"
      ]
     },
     "metadata": {},
     "output_type": "display_data"
    },
    {
     "data": {
      "text/plain": [
       "Flour     4 cups\n",
       "Milk       1 cup\n",
       "Eggs     2 large\n",
       "Spam       1 can\n",
       "Name: Dinner, dtype: object"
      ]
     },
     "execution_count": 6,
     "metadata": {},
     "output_type": "execute_result"
    }
   ],
   "source": [
    "ingredients = pd.Series (['4 cups','1 cup','2 large','1 can'],index=['Flour','Milk','Eggs','Spam'], name='Dinner')\n",
    "\n",
    "# Check your answer\n",
    "q3.check()\n",
    "ingredients"
   ]
  },
  {
   "cell_type": "code",
   "execution_count": 7,
   "id": "3e906953",
   "metadata": {
    "execution": {
     "iopub.execute_input": "2025-07-19T05:28:31.714975Z",
     "iopub.status.busy": "2025-07-19T05:28:31.714580Z",
     "iopub.status.idle": "2025-07-19T05:28:31.718754Z",
     "shell.execute_reply": "2025-07-19T05:28:31.717808Z"
    },
    "papermill": {
     "duration": 0.012839,
     "end_time": "2025-07-19T05:28:31.720542",
     "exception": false,
     "start_time": "2025-07-19T05:28:31.707703",
     "status": "completed"
    },
    "tags": []
   },
   "outputs": [],
   "source": [
    "#q3.hint()\n",
    "#q3.solution()"
   ]
  },
  {
   "cell_type": "markdown",
   "id": "6b4019df",
   "metadata": {
    "papermill": {
     "duration": 0.005079,
     "end_time": "2025-07-19T05:28:31.731155",
     "exception": false,
     "start_time": "2025-07-19T05:28:31.726076",
     "status": "completed"
    },
    "tags": []
   },
   "source": [
    "## 4.\n",
    "\n",
    "Read the following csv dataset of wine reviews into a DataFrame called `reviews`:\n",
    "\n",
    "![](https://storage.googleapis.com/kaggle-media/learn/images/74RCZtU.png)\n",
    "\n",
    "The filepath to the csv file is `../input/wine-reviews/winemag-data_first150k.csv`. The first few lines look like:\n",
    "\n",
    "```\n",
    ",country,description,designation,points,price,province,region_1,region_2,variety,winery\n",
    "0,US,\"This tremendous 100% varietal wine[...]\",Martha's Vineyard,96,235.0,California,Napa Valley,Napa,Cabernet Sauvignon,Heitz\n",
    "1,Spain,\"Ripe aromas of fig, blackberry and[...]\",Carodorum Selección Especial Reserva,96,110.0,Northern Spain,Toro,,Tinta de Toro,Bodega Carmen Rodríguez\n",
    "```"
   ]
  },
  {
   "cell_type": "code",
   "execution_count": 8,
   "id": "40d30a2a",
   "metadata": {
    "execution": {
     "iopub.execute_input": "2025-07-19T05:28:31.743257Z",
     "iopub.status.busy": "2025-07-19T05:28:31.742891Z",
     "iopub.status.idle": "2025-07-19T05:28:32.768611Z",
     "shell.execute_reply": "2025-07-19T05:28:32.767545Z"
    },
    "papermill": {
     "duration": 1.033751,
     "end_time": "2025-07-19T05:28:32.770397",
     "exception": false,
     "start_time": "2025-07-19T05:28:31.736646",
     "status": "completed"
    },
    "tags": []
   },
   "outputs": [
    {
     "data": {
      "application/javascript": [
       "parent.postMessage({\"jupyterEvent\": \"custom.exercise_interaction\", \"data\": {\"outcomeType\": 1, \"valueTowardsCompletion\": 0.16666666666666666, \"interactionType\": 1, \"questionType\": 1, \"questionId\": \"4_ReadWineCsv\", \"learnToolsVersion\": \"0.3.5\", \"failureMessage\": \"\", \"exceptionClass\": \"\", \"trace\": \"\"}}, \"*\")"
      ],
      "text/plain": [
       "<IPython.core.display.Javascript object>"
      ]
     },
     "metadata": {},
     "output_type": "display_data"
    },
    {
     "data": {
      "text/markdown": [
       "<span style=\"color:#33cc33\">Correct</span>"
      ],
      "text/plain": [
       "Correct"
      ]
     },
     "metadata": {},
     "output_type": "display_data"
    },
    {
     "data": {
      "text/html": [
       "<div>\n",
       "<style scoped>\n",
       "    .dataframe tbody tr th:only-of-type {\n",
       "        vertical-align: middle;\n",
       "    }\n",
       "\n",
       "    .dataframe tbody tr th {\n",
       "        vertical-align: top;\n",
       "    }\n",
       "\n",
       "    .dataframe thead th {\n",
       "        text-align: right;\n",
       "    }\n",
       "</style>\n",
       "<table border=\"1\" class=\"dataframe\">\n",
       "  <thead>\n",
       "    <tr style=\"text-align: right;\">\n",
       "      <th></th>\n",
       "      <th>country</th>\n",
       "      <th>description</th>\n",
       "      <th>designation</th>\n",
       "      <th>points</th>\n",
       "      <th>price</th>\n",
       "      <th>province</th>\n",
       "      <th>region_1</th>\n",
       "      <th>region_2</th>\n",
       "      <th>variety</th>\n",
       "      <th>winery</th>\n",
       "    </tr>\n",
       "  </thead>\n",
       "  <tbody>\n",
       "    <tr>\n",
       "      <th>0</th>\n",
       "      <td>US</td>\n",
       "      <td>This tremendous 100% varietal wine hails from ...</td>\n",
       "      <td>Martha's Vineyard</td>\n",
       "      <td>96</td>\n",
       "      <td>235.0</td>\n",
       "      <td>California</td>\n",
       "      <td>Napa Valley</td>\n",
       "      <td>Napa</td>\n",
       "      <td>Cabernet Sauvignon</td>\n",
       "      <td>Heitz</td>\n",
       "    </tr>\n",
       "    <tr>\n",
       "      <th>1</th>\n",
       "      <td>Spain</td>\n",
       "      <td>Ripe aromas of fig, blackberry and cassis are ...</td>\n",
       "      <td>Carodorum Selección Especial Reserva</td>\n",
       "      <td>96</td>\n",
       "      <td>110.0</td>\n",
       "      <td>Northern Spain</td>\n",
       "      <td>Toro</td>\n",
       "      <td>NaN</td>\n",
       "      <td>Tinta de Toro</td>\n",
       "      <td>Bodega Carmen Rodríguez</td>\n",
       "    </tr>\n",
       "    <tr>\n",
       "      <th>...</th>\n",
       "      <td>...</td>\n",
       "      <td>...</td>\n",
       "      <td>...</td>\n",
       "      <td>...</td>\n",
       "      <td>...</td>\n",
       "      <td>...</td>\n",
       "      <td>...</td>\n",
       "      <td>...</td>\n",
       "      <td>...</td>\n",
       "      <td>...</td>\n",
       "    </tr>\n",
       "    <tr>\n",
       "      <th>150928</th>\n",
       "      <td>France</td>\n",
       "      <td>A perfect salmon shade, with scents of peaches...</td>\n",
       "      <td>Grand Brut Rosé</td>\n",
       "      <td>90</td>\n",
       "      <td>52.0</td>\n",
       "      <td>Champagne</td>\n",
       "      <td>Champagne</td>\n",
       "      <td>NaN</td>\n",
       "      <td>Champagne Blend</td>\n",
       "      <td>Gosset</td>\n",
       "    </tr>\n",
       "    <tr>\n",
       "      <th>150929</th>\n",
       "      <td>Italy</td>\n",
       "      <td>More Pinot Grigios should taste like this. A r...</td>\n",
       "      <td>NaN</td>\n",
       "      <td>90</td>\n",
       "      <td>15.0</td>\n",
       "      <td>Northeastern Italy</td>\n",
       "      <td>Alto Adige</td>\n",
       "      <td>NaN</td>\n",
       "      <td>Pinot Grigio</td>\n",
       "      <td>Alois Lageder</td>\n",
       "    </tr>\n",
       "  </tbody>\n",
       "</table>\n",
       "<p>150930 rows × 10 columns</p>\n",
       "</div>"
      ],
      "text/plain": [
       "       country                                        description  \\\n",
       "0           US  This tremendous 100% varietal wine hails from ...   \n",
       "1        Spain  Ripe aromas of fig, blackberry and cassis are ...   \n",
       "...        ...                                                ...   \n",
       "150928  France  A perfect salmon shade, with scents of peaches...   \n",
       "150929   Italy  More Pinot Grigios should taste like this. A r...   \n",
       "\n",
       "                                 designation  points  price  \\\n",
       "0                          Martha's Vineyard      96  235.0   \n",
       "1       Carodorum Selección Especial Reserva      96  110.0   \n",
       "...                                      ...     ...    ...   \n",
       "150928                       Grand Brut Rosé      90   52.0   \n",
       "150929                                   NaN      90   15.0   \n",
       "\n",
       "                  province     region_1 region_2             variety  \\\n",
       "0               California  Napa Valley     Napa  Cabernet Sauvignon   \n",
       "1           Northern Spain         Toro      NaN       Tinta de Toro   \n",
       "...                    ...          ...      ...                 ...   \n",
       "150928           Champagne    Champagne      NaN     Champagne Blend   \n",
       "150929  Northeastern Italy   Alto Adige      NaN        Pinot Grigio   \n",
       "\n",
       "                         winery  \n",
       "0                         Heitz  \n",
       "1       Bodega Carmen Rodríguez  \n",
       "...                         ...  \n",
       "150928                   Gosset  \n",
       "150929            Alois Lageder  \n",
       "\n",
       "[150930 rows x 10 columns]"
      ]
     },
     "execution_count": 8,
     "metadata": {},
     "output_type": "execute_result"
    }
   ],
   "source": [
    "reviews = pd.read_csv(\"../input/wine-reviews/winemag-data_first150k.csv\", index_col=0)\n",
    "\n",
    "# Check your answer\n",
    "q4.check()\n",
    "reviews"
   ]
  },
  {
   "cell_type": "code",
   "execution_count": 9,
   "id": "79bc9455",
   "metadata": {
    "execution": {
     "iopub.execute_input": "2025-07-19T05:28:32.783702Z",
     "iopub.status.busy": "2025-07-19T05:28:32.783403Z",
     "iopub.status.idle": "2025-07-19T05:28:32.787688Z",
     "shell.execute_reply": "2025-07-19T05:28:32.786699Z"
    },
    "papermill": {
     "duration": 0.01302,
     "end_time": "2025-07-19T05:28:32.789497",
     "exception": false,
     "start_time": "2025-07-19T05:28:32.776477",
     "status": "completed"
    },
    "tags": []
   },
   "outputs": [],
   "source": [
    "#q4.hint()\n",
    "#q4.solution()"
   ]
  },
  {
   "cell_type": "markdown",
   "id": "b3975374",
   "metadata": {
    "papermill": {
     "duration": 0.006116,
     "end_time": "2025-07-19T05:28:32.801704",
     "exception": false,
     "start_time": "2025-07-19T05:28:32.795588",
     "status": "completed"
    },
    "tags": []
   },
   "source": [
    "## 5.\n",
    "\n",
    "Run the cell below to create and display a DataFrame called `animals`:"
   ]
  },
  {
   "cell_type": "code",
   "execution_count": 10,
   "id": "f093d508",
   "metadata": {
    "execution": {
     "iopub.execute_input": "2025-07-19T05:28:32.815393Z",
     "iopub.status.busy": "2025-07-19T05:28:32.815077Z",
     "iopub.status.idle": "2025-07-19T05:28:32.827650Z",
     "shell.execute_reply": "2025-07-19T05:28:32.826439Z"
    },
    "papermill": {
     "duration": 0.021294,
     "end_time": "2025-07-19T05:28:32.829590",
     "exception": false,
     "start_time": "2025-07-19T05:28:32.808296",
     "status": "completed"
    },
    "tags": []
   },
   "outputs": [
    {
     "data": {
      "text/html": [
       "<div>\n",
       "<style scoped>\n",
       "    .dataframe tbody tr th:only-of-type {\n",
       "        vertical-align: middle;\n",
       "    }\n",
       "\n",
       "    .dataframe tbody tr th {\n",
       "        vertical-align: top;\n",
       "    }\n",
       "\n",
       "    .dataframe thead th {\n",
       "        text-align: right;\n",
       "    }\n",
       "</style>\n",
       "<table border=\"1\" class=\"dataframe\">\n",
       "  <thead>\n",
       "    <tr style=\"text-align: right;\">\n",
       "      <th></th>\n",
       "      <th>Cows</th>\n",
       "      <th>Goats</th>\n",
       "    </tr>\n",
       "  </thead>\n",
       "  <tbody>\n",
       "    <tr>\n",
       "      <th>Year 1</th>\n",
       "      <td>12</td>\n",
       "      <td>22</td>\n",
       "    </tr>\n",
       "    <tr>\n",
       "      <th>Year 2</th>\n",
       "      <td>20</td>\n",
       "      <td>19</td>\n",
       "    </tr>\n",
       "  </tbody>\n",
       "</table>\n",
       "</div>"
      ],
      "text/plain": [
       "        Cows  Goats\n",
       "Year 1    12     22\n",
       "Year 2    20     19"
      ]
     },
     "execution_count": 10,
     "metadata": {},
     "output_type": "execute_result"
    }
   ],
   "source": [
    "animals = pd.DataFrame({'Cows': [12, 20], 'Goats': [22, 19]}, index=['Year 1', 'Year 2'])\n",
    "animals"
   ]
  },
  {
   "cell_type": "markdown",
   "id": "df3b4a18",
   "metadata": {
    "papermill": {
     "duration": 0.005728,
     "end_time": "2025-07-19T05:28:32.842134",
     "exception": false,
     "start_time": "2025-07-19T05:28:32.836406",
     "status": "completed"
    },
    "tags": []
   },
   "source": [
    "In the cell below, write code to save this DataFrame to disk as a csv file with the name `cows_and_goats.csv`."
   ]
  },
  {
   "cell_type": "code",
   "execution_count": 11,
   "id": "53e91e0b",
   "metadata": {
    "execution": {
     "iopub.execute_input": "2025-07-19T05:28:32.855965Z",
     "iopub.status.busy": "2025-07-19T05:28:32.855629Z",
     "iopub.status.idle": "2025-07-19T05:28:32.872492Z",
     "shell.execute_reply": "2025-07-19T05:28:32.871457Z"
    },
    "papermill": {
     "duration": 0.02544,
     "end_time": "2025-07-19T05:28:32.874051",
     "exception": false,
     "start_time": "2025-07-19T05:28:32.848611",
     "status": "completed"
    },
    "tags": []
   },
   "outputs": [
    {
     "data": {
      "application/javascript": [
       "parent.postMessage({\"jupyterEvent\": \"custom.exercise_interaction\", \"data\": {\"outcomeType\": 1, \"valueTowardsCompletion\": 0.16666666666666666, \"interactionType\": 1, \"questionType\": 2, \"questionId\": \"5_SaveAnimalsCsv\", \"learnToolsVersion\": \"0.3.5\", \"failureMessage\": \"\", \"exceptionClass\": \"\", \"trace\": \"\"}}, \"*\")"
      ],
      "text/plain": [
       "<IPython.core.display.Javascript object>"
      ]
     },
     "metadata": {},
     "output_type": "display_data"
    },
    {
     "data": {
      "text/markdown": [
       "<span style=\"color:#33cc33\">Correct</span>"
      ],
      "text/plain": [
       "Correct"
      ]
     },
     "metadata": {},
     "output_type": "display_data"
    }
   ],
   "source": [
    "# Your code goes here\n",
    "animals.to_csv('cows_and_goats.csv')\n",
    "\n",
    "# Check your answer\n",
    "q5.check()\n"
   ]
  },
  {
   "cell_type": "code",
   "execution_count": 12,
   "id": "d63aa73b",
   "metadata": {
    "execution": {
     "iopub.execute_input": "2025-07-19T05:28:32.887909Z",
     "iopub.status.busy": "2025-07-19T05:28:32.887586Z",
     "iopub.status.idle": "2025-07-19T05:28:32.891945Z",
     "shell.execute_reply": "2025-07-19T05:28:32.891086Z"
    },
    "papermill": {
     "duration": 0.012971,
     "end_time": "2025-07-19T05:28:32.893422",
     "exception": false,
     "start_time": "2025-07-19T05:28:32.880451",
     "status": "completed"
    },
    "tags": []
   },
   "outputs": [],
   "source": [
    "#q5.hint()\n",
    "#q5.solution()"
   ]
  },
  {
   "cell_type": "markdown",
   "id": "cdb18f00",
   "metadata": {
    "papermill": {
     "duration": 0.005834,
     "end_time": "2025-07-19T05:28:32.905569",
     "exception": false,
     "start_time": "2025-07-19T05:28:32.899735",
     "status": "completed"
    },
    "tags": []
   },
   "source": [
    "# Keep going\n",
    "\n",
    "Move on to learn about **[indexing, selecting and assigning](https://www.kaggle.com/residentmario/indexing-selecting-assigning)**."
   ]
  },
  {
   "cell_type": "markdown",
   "id": "36abd376",
   "metadata": {
    "papermill": {
     "duration": 0.005904,
     "end_time": "2025-07-19T05:28:32.917608",
     "exception": false,
     "start_time": "2025-07-19T05:28:32.911704",
     "status": "completed"
    },
    "tags": []
   },
   "source": [
    "---\n",
    "\n",
    "\n",
    "\n",
    "\n",
    "*Have questions or comments? Visit the [course discussion forum](https://www.kaggle.com/learn/pandas/discussion) to chat with other learners.*"
   ]
  }
 ],
 "metadata": {
  "kaggle": {
   "accelerator": "none",
   "dataSources": [
    {
     "datasetId": 655,
     "sourceId": 1252,
     "sourceType": "datasetVersion"
    },
    {
     "datasetId": 2321,
     "sourceId": 3919,
     "sourceType": "datasetVersion"
    },
    {
     "datasetId": 2894,
     "sourceId": 4877,
     "sourceType": "datasetVersion"
    },
    {
     "datasetId": 3491,
     "sourceId": 5624,
     "sourceType": "datasetVersion"
    },
    {
     "datasetId": 1442,
     "sourceId": 8172,
     "sourceType": "datasetVersion"
    },
    {
     "datasetId": 9366,
     "sourceId": 13206,
     "sourceType": "datasetVersion"
    },
    {
     "datasetId": 179555,
     "sourceId": 403916,
     "sourceType": "datasetVersion"
    },
    {
     "datasetId": 4549,
     "sourceId": 466349,
     "sourceType": "datasetVersion"
    },
    {
     "datasetId": 2478,
     "sourceId": 1151655,
     "sourceType": "datasetVersion"
    },
    {
     "datasetId": 10128,
     "sourceId": 5438389,
     "sourceType": "datasetVersion"
    }
   ],
   "isGpuEnabled": false,
   "isInternetEnabled": false,
   "language": "python",
   "sourceType": "notebook"
  },
  "kernelspec": {
   "display_name": "Python 3",
   "language": "python",
   "name": "python3"
  },
  "language_info": {
   "codemirror_mode": {
    "name": "ipython",
    "version": 3
   },
   "file_extension": ".py",
   "mimetype": "text/x-python",
   "name": "python",
   "nbconvert_exporter": "python",
   "pygments_lexer": "ipython3",
   "version": "3.11.13"
  },
  "papermill": {
   "default_parameters": {},
   "duration": 11.152987,
   "end_time": "2025-07-19T05:28:33.443776",
   "environment_variables": {},
   "exception": null,
   "input_path": "__notebook__.ipynb",
   "output_path": "__notebook__.ipynb",
   "parameters": {},
   "start_time": "2025-07-19T05:28:22.290789",
   "version": "2.6.0"
  }
 },
 "nbformat": 4,
 "nbformat_minor": 5
}
